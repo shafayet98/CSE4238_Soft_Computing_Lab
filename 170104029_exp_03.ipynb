{
  "nbformat": 4,
  "nbformat_minor": 0,
  "metadata": {
    "colab": {
      "name": "SoftCompA2E3.ipynb",
      "provenance": [],
      "collapsed_sections": []
    },
    "kernelspec": {
      "name": "python3",
      "display_name": "Python 3"
    },
    "language_info": {
      "name": "python"
    },
    "accelerator": "GPU"
  },
  "cells": [
    {
      "cell_type": "code",
      "metadata": {
        "colab": {
          "base_uri": "https://localhost:8080/"
        },
        "id": "vK_4XIFXHz4-",
        "outputId": "73796fbb-47e2-4d2d-d412-8a1f1c912d27"
      },
      "source": [
        "from google.colab import drive\n",
        "drive.mount('/content/drive')"
      ],
      "execution_count": 1,
      "outputs": [
        {
          "output_type": "stream",
          "name": "stdout",
          "text": [
            "Drive already mounted at /content/drive; to attempt to forcibly remount, call drive.mount(\"/content/drive\", force_remount=True).\n"
          ]
        }
      ]
    },
    {
      "cell_type": "code",
      "metadata": {
        "id": "rJc6Eah4IvLL"
      },
      "source": [
        "import numpy as np # linear algebra\n",
        "import pandas as pd # data processing, CSV file I/O (e.g. pd.read_csv)\n",
        "import random\n",
        "import matplotlib.pyplot as plt\n",
        "from mlxtend.data import loadlocal_mnist\n",
        "%matplotlib inline\n",
        "import os\n",
        "# Pytorch stuff\n",
        "import torch\n",
        "import torch.nn as nn  # All neural network modules, nn.Linear, nn.Conv2d, BatchNorm, Loss functions\n",
        "import torch.optim as optim  # For all Optimization algorithms, SGD, Adam, etc.\n",
        "import torchvision.transforms as transforms  # Transformations we can perform on our dataset\n",
        "import torchvision\n",
        "import os\n",
        "import matplotlib.pyplot as plt\n",
        "import pandas as pd\n",
        "import numpy as np\n",
        "from skimage import io\n",
        "import torchvision.datasets as dsets\n",
        "from torch.utils.data import (\n",
        "    Dataset,\n",
        "    DataLoader,\n",
        ")"
      ],
      "execution_count": 2,
      "outputs": []
    },
    {
      "cell_type": "code",
      "metadata": {
        "colab": {
          "base_uri": "https://localhost:8080/"
        },
        "id": "PhKdI5Y2IvTP",
        "outputId": "be1a4eee-ea49-4d70-840d-3e9064a8fa24"
      },
      "source": [
        "# /content/drive/MyDrive/SoftCompA2E3/Dataset_2.zip\n",
        "!unzip \"/content/drive/MyDrive/SoftCompA2E3/Dataset_2.zip\""
      ],
      "execution_count": 3,
      "outputs": [
        {
          "output_type": "stream",
          "name": "stdout",
          "text": [
            "Archive:  /content/drive/MyDrive/SoftCompA2E3/Dataset_2.zip\n",
            "   creating: Dataset_2/\n",
            "  inflating: Dataset_2/t10k-images-idx3-ubyte  \n",
            "  inflating: Dataset_2/t10k-labels-idx1-ubyte  \n",
            "  inflating: Dataset_2/train-images-idx3-ubyte  \n",
            "  inflating: Dataset_2/train-labels-idx1-ubyte  \n",
            "  inflating: Dataset_2/verification_test.csv  \n",
            "  inflating: Dataset_2/verification_train.csv  \n"
          ]
        }
      ]
    },
    {
      "cell_type": "code",
      "metadata": {
        "colab": {
          "base_uri": "https://localhost:8080/"
        },
        "id": "ru3NmNu1IvV2",
        "outputId": "52ccee6a-baf1-48aa-d4c3-259faba52455"
      },
      "source": [
        "for dirname, _, filenames in os.walk('/content/Dataset_2'):\n",
        "    for filename in filenames:\n",
        "        print(os.path.join(dirname, filename))"
      ],
      "execution_count": 4,
      "outputs": [
        {
          "output_type": "stream",
          "name": "stdout",
          "text": [
            "/content/Dataset_2/verification_test.csv\n",
            "/content/Dataset_2/train-labels-idx1-ubyte\n",
            "/content/Dataset_2/t10k-images-idx3-ubyte\n",
            "/content/Dataset_2/train-images-idx3-ubyte\n",
            "/content/Dataset_2/verification_train.csv\n",
            "/content/Dataset_2/t10k-labels-idx1-ubyte\n"
          ]
        }
      ]
    },
    {
      "cell_type": "code",
      "metadata": {
        "id": "yhMzB_VGIvYM"
      },
      "source": [
        "training_images_filepath = '/content/Dataset_2/train-images-idx3-ubyte'\n",
        "training_labels_filepath = '/content/Dataset_2/train-labels-idx1-ubyte'\n",
        "test_images_filepath = '/content/Dataset_2/t10k-images-idx3-ubyte'\n",
        "test_labels_filepath = '/content/Dataset_2/t10k-labels-idx1-ubyte'"
      ],
      "execution_count": 5,
      "outputs": []
    },
    {
      "cell_type": "code",
      "metadata": {
        "id": "JpNMDEIpIvai"
      },
      "source": [
        "X_train, y_train = loadlocal_mnist( training_images_filepath, training_labels_filepath)\n",
        "X_test, y_test = loadlocal_mnist(test_images_filepath, test_labels_filepath)"
      ],
      "execution_count": 6,
      "outputs": []
    },
    {
      "cell_type": "code",
      "metadata": {
        "colab": {
          "base_uri": "https://localhost:8080/"
        },
        "id": "8aSfgAZCIvcv",
        "outputId": "39c002ac-ebb6-4a1a-ecb1-95042b687ee5"
      },
      "source": [
        "print('Dimension of training images:', np.shape(X_train))\n",
        "print('Dimension of trainig labels:',np.shape(y_train))\n",
        "print('Dimension of testing images:', np.shape(X_test))\n",
        "print('Dimension of testing labels:',np.shape(y_test))"
      ],
      "execution_count": 7,
      "outputs": [
        {
          "output_type": "stream",
          "name": "stdout",
          "text": [
            "Dimension of training images: (60000, 784)\n",
            "Dimension of trainig labels: (60000,)\n",
            "Dimension of testing images: (10000, 784)\n",
            "Dimension of testing labels: (10000,)\n"
          ]
        }
      ]
    },
    {
      "cell_type": "code",
      "metadata": {
        "id": "8aJhr0ApIvfN"
      },
      "source": [
        "# reshape the arrays:\n",
        "X_train = X_train.reshape(60000, 28, 28)\n",
        "X_test = X_test.reshape(10000, 28, 28)"
      ],
      "execution_count": 8,
      "outputs": []
    },
    {
      "cell_type": "code",
      "metadata": {
        "colab": {
          "base_uri": "https://localhost:8080/"
        },
        "id": "1vSYYw6WIvhE",
        "outputId": "ddc00d45-0d07-42c0-87e7-0e85cd58dd6e"
      },
      "source": [
        "print('Dimension of training images:', np.shape(X_train))\n",
        "print('Dimension of testing images:', np.shape(X_test))"
      ],
      "execution_count": 9,
      "outputs": [
        {
          "output_type": "stream",
          "name": "stdout",
          "text": [
            "Dimension of training images: (60000, 28, 28)\n",
            "Dimension of testing images: (10000, 28, 28)\n"
          ]
        }
      ]
    },
    {
      "cell_type": "code",
      "metadata": {
        "id": "yoBAIELgIvjA"
      },
      "source": [
        "def show(image, title):\n",
        "    index = 1 \n",
        "    plt.figure(figsize=(10,5))\n",
        "\n",
        "    for x in zip(image, title):        \n",
        "        image = x[0]        \n",
        "        title = x[1]\n",
        "        plt.subplot(2, 5, index)        \n",
        "        plt.imshow(image, cmap=plt.cm.gray)  \n",
        "        plt.title(x[1], fontsize = 9)\n",
        "        index += 1"
      ],
      "execution_count": 10,
      "outputs": []
    },
    {
      "cell_type": "code",
      "metadata": {
        "colab": {
          "base_uri": "https://localhost:8080/",
          "height": 305
        },
        "id": "_i_8dhkZIvlS",
        "outputId": "2f11edc3-60f9-4a52-9a66-2fa20b60248a"
      },
      "source": [
        "image = []\n",
        "title = []\n",
        "for i in range(0, 5):\n",
        "    r = random.randint(1, len(X_train))\n",
        "    image.append(X_train[r])\n",
        "    title.append('training image:' + str(y_train[r]))       \n",
        "\n",
        "for i in range(0, 5):\n",
        "    r = random.randint(1, len(X_test))\n",
        "    image.append(X_test[r])\n",
        "    title.append('testing image:' + str(y_test[r]))\n",
        "    \n",
        "show(image, title)"
      ],
      "execution_count": 11,
      "outputs": [
        {
          "output_type": "display_data",
          "data": {
            "image/png": "[encoded data removed]",
            "text/plain": [
              "<Figure size 720x360 with 10 Axes>"
            ]
          },
          "metadata": {
            "needs_background": "light"
          }
        }
      ]
    },
    {
      "cell_type": "code",
      "metadata": {
        "id": "6-8FQY-fSbc4"
      },
      "source": [
        "class FashionMNISTDataset(Dataset):\n",
        "    def __init__(self, csv_file, transform=None):\n",
        "        self.annotations = pd.read_csv(csv_file)\n",
        "        self.transform = transform\n",
        "\n",
        "    def __len__(self):\n",
        "        return len(self.annotations)\n",
        "\n",
        "    def __getitem__(self, index):\n",
        "        img = self.annotations.iloc[index, 1:]\n",
        "        img = np.array(img,dtype='float32').reshape(28,28)\n",
        "        # img_path = os.path.join(self.root_dir, self.annotations.iloc[index, 0])\n",
        "        # image = io.imread(img_path)\n",
        "        y_label = torch.tensor(int(self.annotations.iloc[index, 0]))\n",
        "\n",
        "        if self.transform:\n",
        "            img = self.transform(img)\n",
        "\n",
        "        return (img, y_label)"
      ],
      "execution_count": 12,
      "outputs": []
    },
    {
      "cell_type": "code",
      "metadata": {
        "id": "QHLCHqqiSbXN"
      },
      "source": [
        "train_set = FashionMNISTDataset(\"/content/Dataset_2/verification_train.csv\",transforms.Compose([transforms.ToPILImage(), transforms.Resize(size=(28, 28)), transforms.ToTensor()]))\n",
        "test_set = FashionMNISTDataset(\"/content/Dataset_2/verification_test.csv\",transforms.Compose([transforms.ToPILImage(), transforms.Resize(size=(28, 28)), transforms.ToTensor()]))\n"
      ],
      "execution_count": 13,
      "outputs": []
    },
    {
      "cell_type": "code",
      "metadata": {
        "id": "uWT1gJmlLSZl"
      },
      "source": [
        "# Hyperparameters\n",
        "batch_size = 32\n",
        "num_iters = 30000\n",
        "input_dim = 28*28 # num_features = 784\n",
        "num_hidden = 2000\n",
        "output_dim = 10\n",
        "\n",
        "learning_rate = 0.01\n",
        "loss_lst = []\n",
        "acc_lst = []\n",
        "\n",
        "num_epochs = num_iters / (len(train_set) / batch_size)\n",
        "num_epochs = int(num_epochs)\n",
        "\n",
        "# Device\n",
        "device = torch.device(\"cuda:0\" if torch.cuda.is_available() else \"cpu\")\n",
        "\n",
        "\n",
        "train_loader = torch.utils.data.DataLoader(dataset=train_set,\n",
        "                                           batch_size=batch_size, \n",
        "                                           shuffle=True)   # It's better to shuffle the whole training dataset! \n",
        "\n",
        "test_loader = torch.utils.data.DataLoader(dataset=test_set, \n",
        "                                          batch_size=batch_size, \n",
        "                                          shuffle=False) "
      ],
      "execution_count": 16,
      "outputs": []
    },
    {
      "cell_type": "code",
      "metadata": {
        "id": "MpXEjp3-LSb3"
      },
      "source": [
        "class DeepNeuralNetworkModel(nn.Module):\n",
        "    def __init__(self, input_size, num_classes, num_hidden):\n",
        "        super().__init__()\n",
        "        ### 1st hidden layer: 784 --> 100\n",
        "        self.linear_1 = nn.Linear(input_size, 2048)\n",
        "        ### Non-linearity in 1st hidden layer\n",
        "        self.relu_1 = nn.ReLU()\n",
        "\n",
        "        ### 2nd hidden layer: 100 --> 100\n",
        "        self.linear_2 = nn.Linear(2048, 1624)\n",
        "        ### Non-linearity in 2nd hidden layer\n",
        "        self.relu_2 = nn.ReLU()\n",
        "\n",
        "        ### 3rd hidden layer: 100 --> 100\n",
        "        self.linear_3 = nn.Linear(1624, 1248)\n",
        "        ### Non-linearity in 3rd hidden layer\n",
        "        self.relu_3 = nn.ReLU()\n",
        "\n",
        "        ### 4th hidden layer: 100 --> 100\n",
        "        self.linear_4 = nn.Linear(1248, 1024)\n",
        "        ### Non-linearity in 4th hidden layer\n",
        "        self.relu_4 = nn.ReLU()\n",
        "\n",
        "        ### Output layer: 100 --> 10\n",
        "        self.linear_out = nn.Linear(1024, num_classes)\n",
        "\n",
        "    def forward(self, x):\n",
        "        ### 1st hidden layer\n",
        "        # x = x.view(x.shape[0], -1)\n",
        "        out  = self.linear_1(x)\n",
        "        ### Non-linearity in 1st hidden layer\n",
        "        out = self.relu_1(out)\n",
        "        \n",
        "        ### 2nd hidden layer\n",
        "        out  = self.linear_2(out)\n",
        "        ### Non-linearity in 2nd hidden layer\n",
        "        out = self.relu_2(out)\n",
        "\n",
        "        ### 3rd hidden layer\n",
        "        out  = self.linear_3(out)\n",
        "        ### Non-linearity in 3rd hidden layer\n",
        "        out = self.relu_3(out)\n",
        "\n",
        "        ### 4th hidden layer\n",
        "        out  = self.linear_4(out)\n",
        "        ### Non-linearity in 3rd hidden layer\n",
        "        out = self.relu_4(out)\n",
        "        \n",
        "        # Linear layer (output)\n",
        "        probas  = self.linear_out(out)\n",
        "        return probas\n",
        "\n",
        "# INSTANTIATE MODEL CLASS\n",
        "\n",
        "model = DeepNeuralNetworkModel(input_size = input_dim,\n",
        "                               num_classes = output_dim,\n",
        "                               num_hidden = num_hidden)\n",
        "\n",
        "\n",
        "# To enable GPU\n",
        "model.to(device)\n",
        "\n",
        "criterion = nn.CrossEntropyLoss()\n",
        "optimizer = torch.optim.SGD(model.parameters(), lr=learning_rate)"
      ],
      "execution_count": 17,
      "outputs": []
    },
    {
      "cell_type": "code",
      "metadata": {
        "colab": {
          "base_uri": "https://localhost:8080/"
        },
        "id": "q_5SNsO4LSeP",
        "outputId": "b2767339-9a37-4047-a984-0b59b28965b9"
      },
      "source": [
        "iter = 0\n",
        "for epoch in range(num_epochs):\n",
        "    for i, (images, labels) in enumerate(train_loader):\n",
        "\n",
        "        images = images.view(-1, 28*28).to(device)\n",
        "        labels = labels.to(device)\n",
        "\n",
        "        # Clear gradients w.r.t. parameters\n",
        "        optimizer.zero_grad()\n",
        "\n",
        "        # Forward pass to get output/logits\n",
        "        outputs = model(images) \n",
        "\n",
        "        # Calculate Loss: softmax --> cross entropy loss\n",
        "        loss = criterion(outputs, labels)\n",
        "\n",
        "        # Getting gradients w.r.t. parameters\n",
        "        loss.backward()\n",
        "\n",
        "        # Updating parameters\n",
        "        optimizer.step()\n",
        "\n",
        "        iter += 1\n",
        "\n",
        "        if iter % 500 == 0:\n",
        "            # Calculate Accuracy         \n",
        "            correct = 0\n",
        "            total = 0\n",
        "            # Iterate through test dataset\n",
        "            for images, labels in test_loader:\n",
        "               \n",
        "                images = images.view(-1, 28*28).to(device)\n",
        "\n",
        "                # Forward pass only to get logits/output\n",
        "                outputs = model(images)\n",
        "\n",
        "                # Get predictions from the maximum value\n",
        "                _, predicted = torch.max(outputs, 1)\n",
        "\n",
        "                # Total number of labels\n",
        "                total += labels.size(0)\n",
        "\n",
        "\n",
        "                # Total correct predictions\n",
        "                if torch.cuda.is_available():\n",
        "                    correct += (predicted.cpu() == labels.cpu()).sum() \n",
        "                else:\n",
        "                    correct += (predicted == labels).sum()\n",
        "\n",
        "            accuracy = 100 * correct.item() / total\n",
        "\n",
        "            # Print Loss\n",
        "            loss_lst.append(loss.item())\n",
        "            acc_lst.append(accuracy)\n",
        "            print('Iteration: {}. Loss: {}. Accuracy: {}'.format(iter, loss.item(), accuracy))"
      ],
      "execution_count": 18,
      "outputs": [
        {
          "output_type": "stream",
          "name": "stdout",
          "text": [
            "Iteration: 500. Loss: 0.7304405570030212. Accuracy: 83.0\n",
            "Iteration: 1000. Loss: 0.27758726477622986. Accuracy: 84.0\n",
            "Iteration: 1500. Loss: 0.4715214669704437. Accuracy: 85.52\n",
            "Iteration: 2000. Loss: 0.337245911359787. Accuracy: 86.52\n",
            "Iteration: 2500. Loss: 0.3105795681476593. Accuracy: 85.28\n",
            "Iteration: 3000. Loss: 0.20504851639270782. Accuracy: 86.17\n",
            "Iteration: 3500. Loss: 0.5773395299911499. Accuracy: 86.16\n",
            "Iteration: 4000. Loss: 0.1688847541809082. Accuracy: 87.36\n",
            "Iteration: 4500. Loss: 0.16005469858646393. Accuracy: 87.95\n",
            "Iteration: 5000. Loss: 0.5179991126060486. Accuracy: 86.77\n",
            "Iteration: 5500. Loss: 0.34915393590927124. Accuracy: 87.47\n",
            "Iteration: 6000. Loss: 0.3678230941295624. Accuracy: 88.43\n",
            "Iteration: 6500. Loss: 0.2155943512916565. Accuracy: 88.58\n",
            "Iteration: 7000. Loss: 0.22365964949131012. Accuracy: 87.38\n",
            "Iteration: 7500. Loss: 0.057742077857255936. Accuracy: 87.55\n",
            "Iteration: 8000. Loss: 0.22835130989551544. Accuracy: 88.42\n",
            "Iteration: 8500. Loss: 0.1635463386774063. Accuracy: 89.45\n",
            "Iteration: 9000. Loss: 0.19398386776447296. Accuracy: 87.22\n",
            "Iteration: 9500. Loss: 0.15589845180511475. Accuracy: 88.7\n",
            "Iteration: 10000. Loss: 0.26273298263549805. Accuracy: 87.7\n",
            "Iteration: 10500. Loss: 0.3071092963218689. Accuracy: 89.01\n",
            "Iteration: 11000. Loss: 0.3496083617210388. Accuracy: 88.6\n",
            "Iteration: 11500. Loss: 0.2764297425746918. Accuracy: 89.15\n",
            "Iteration: 12000. Loss: 0.34560686349868774. Accuracy: 88.55\n",
            "Iteration: 12500. Loss: 0.20729857683181763. Accuracy: 88.84\n",
            "Iteration: 13000. Loss: 0.16206955909729004. Accuracy: 88.63\n",
            "Iteration: 13500. Loss: 0.11603008955717087. Accuracy: 89.42\n",
            "Iteration: 14000. Loss: 0.27452030777931213. Accuracy: 89.28\n",
            "Iteration: 14500. Loss: 0.15078994631767273. Accuracy: 89.2\n",
            "Iteration: 15000. Loss: 0.07877862453460693. Accuracy: 89.37\n",
            "Iteration: 15500. Loss: 0.21508575975894928. Accuracy: 89.32\n",
            "Iteration: 16000. Loss: 0.23483292758464813. Accuracy: 89.15\n",
            "Iteration: 16500. Loss: 0.18829137086868286. Accuracy: 88.76\n",
            "Iteration: 17000. Loss: 0.13778065145015717. Accuracy: 89.88\n",
            "Iteration: 17500. Loss: 0.13657760620117188. Accuracy: 89.69\n",
            "Iteration: 18000. Loss: 0.09833959490060806. Accuracy: 89.2\n",
            "Iteration: 18500. Loss: 0.1547922044992447. Accuracy: 89.84\n",
            "Iteration: 19000. Loss: 0.42438533902168274. Accuracy: 88.27\n",
            "Iteration: 19500. Loss: 0.18111851811408997. Accuracy: 88.95\n",
            "Iteration: 20000. Loss: 0.2026483118534088. Accuracy: 89.6\n",
            "Iteration: 20500. Loss: 0.2829476296901703. Accuracy: 87.04\n",
            "Iteration: 21000. Loss: 0.23072335124015808. Accuracy: 87.5\n",
            "Iteration: 21500. Loss: 0.14099086821079254. Accuracy: 89.48\n",
            "Iteration: 22000. Loss: 0.2110055387020111. Accuracy: 88.32\n",
            "Iteration: 22500. Loss: 0.3811225891113281. Accuracy: 89.36\n",
            "Iteration: 23000. Loss: 0.14494703710079193. Accuracy: 90.1\n",
            "Iteration: 23500. Loss: 0.06072702258825302. Accuracy: 90.04\n",
            "Iteration: 24000. Loss: 0.1895689070224762. Accuracy: 89.3\n",
            "Iteration: 24500. Loss: 0.37421873211860657. Accuracy: 89.13\n",
            "Iteration: 25000. Loss: 0.04868689179420471. Accuracy: 90.6\n",
            "Iteration: 25500. Loss: 0.08323777467012405. Accuracy: 89.99\n",
            "Iteration: 26000. Loss: 0.12103670090436935. Accuracy: 87.18\n",
            "Iteration: 26500. Loss: 0.0406353585422039. Accuracy: 90.26\n",
            "Iteration: 27000. Loss: 0.1196647509932518. Accuracy: 89.99\n",
            "Iteration: 27500. Loss: 0.041925542056560516. Accuracy: 88.85\n",
            "Iteration: 28000. Loss: 0.09328620135784149. Accuracy: 89.38\n",
            "Iteration: 28500. Loss: 0.03839157149195671. Accuracy: 90.3\n",
            "Iteration: 29000. Loss: 0.28510090708732605. Accuracy: 89.69\n",
            "Iteration: 29500. Loss: 0.07659968733787537. Accuracy: 89.32\n",
            "Iteration: 30000. Loss: 0.1043449118733406. Accuracy: 88.91\n"
          ]
        }
      ]
    },
    {
      "cell_type": "code",
      "metadata": {
        "id": "5ZeckqHPLSgd",
        "colab": {
          "base_uri": "https://localhost:8080/",
          "height": 279
        },
        "outputId": "fc0ca396-0ac1-4aed-b794-66e2f350df09"
      },
      "source": [
        "n_itr = np.arange(1,30000,500,int).tolist()\n",
        "# len(n_itr)\n",
        "plt.plot(n_itr,acc_lst,'-',label='Accuracy over iteration');\n",
        "plt.xlabel('Iterations')\n",
        "plt.ylabel('Accuracy')\n",
        "plt.legend()\n",
        "plt.savefig('acc_itr_ex03.png')\n",
        "plt.show()"
      ],
      "execution_count": 21,
      "outputs": [
        {
          "output_type": "display_data",
          "data": {
            "image/png": "[encoded data removed]",
            "text/plain": [
              "<Figure size 432x288 with 1 Axes>"
            ]
          },
          "metadata": {
            "needs_background": "light"
          }
        }
      ]
    },
    {
      "cell_type": "code",
      "metadata": {
        "id": "rKzVALntLSiS",
        "colab": {
          "base_uri": "https://localhost:8080/",
          "height": 279
        },
        "outputId": "b05a5a7f-e006-4152-8086-d9f00bd20668"
      },
      "source": [
        "plt.plot(n_itr,loss_lst,'-',label='Loss over iteration');\n",
        "plt.xlabel('Iterations')\n",
        "plt.ylabel('Loss')\n",
        "plt.legend()\n",
        "plt.savefig('lss_itr_ex03.png')\n",
        "plt.show()"
      ],
      "execution_count": 22,
      "outputs": [
        {
          "output_type": "display_data",
          "data": {
            "image/png": "[encoded data removed]",
            "text/plain": [
              "<Figure size 432x288 with 1 Axes>"
            ]
          },
          "metadata": {
            "needs_background": "light"
          }
        }
      ]
    },
    {
      "cell_type": "code",
      "metadata": {
        "id": "KHPBQrq9Ivnj"
      },
      "source": [
        ""
      ],
      "execution_count": null,
      "outputs": []
    }
  ]
}